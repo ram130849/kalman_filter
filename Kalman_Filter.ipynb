{
 "cells": [
  {
   "cell_type": "code",
   "execution_count": 256,
   "metadata": {},
   "outputs": [],
   "source": [
    "import numpy as np\n",
    "import scipy as sc\n",
    "import matplotlib.pyplot as plt\n",
    "import math\n",
    "import numpy.random as rn\n",
    "import matplotlib as mpl\n",
    "import matplotlib.pylab as pylab\n",
    "import matplotlib.pyplot as plt\n",
    "from matplotlib.patches import Circle\n",
    "import numpy as np"
   ]
  },
  {
   "cell_type": "code",
   "execution_count": 110,
   "metadata": {},
   "outputs": [
    {
     "name": "stdout",
     "output_type": "stream",
     "text": [
      "Collecting filterpy\n",
      "  Downloading filterpy-1.4.5.zip (177 kB)\n",
      "Requirement already satisfied: numpy in c:\\users\\91709\\anaconda3\\lib\\site-packages (from filterpy) (1.18.1)\n",
      "Requirement already satisfied: scipy in c:\\users\\91709\\anaconda3\\lib\\site-packages (from filterpy) (1.4.1)\n",
      "Requirement already satisfied: matplotlib in c:\\users\\91709\\anaconda3\\lib\\site-packages (from filterpy) (3.5.1)\n",
      "Requirement already satisfied: pillow>=6.2.0 in c:\\users\\91709\\anaconda3\\lib\\site-packages (from matplotlib->filterpy) (7.0.0)\n",
      "Requirement already satisfied: packaging>=20.0 in c:\\users\\91709\\anaconda3\\lib\\site-packages (from matplotlib->filterpy) (20.1)\n",
      "Requirement already satisfied: kiwisolver>=1.0.1 in c:\\users\\91709\\anaconda3\\lib\\site-packages (from matplotlib->filterpy) (1.1.0)\n",
      "Requirement already satisfied: cycler>=0.10 in c:\\users\\91709\\anaconda3\\lib\\site-packages (from matplotlib->filterpy) (0.10.0)\n",
      "Requirement already satisfied: pyparsing>=2.2.1 in c:\\users\\91709\\anaconda3\\lib\\site-packages (from matplotlib->filterpy) (2.4.6)\n",
      "Requirement already satisfied: python-dateutil>=2.7 in c:\\users\\91709\\anaconda3\\lib\\site-packages (from matplotlib->filterpy) (2.8.1)\n",
      "Requirement already satisfied: fonttools>=4.22.0 in c:\\users\\91709\\anaconda3\\lib\\site-packages (from matplotlib->filterpy) (4.32.0)\n",
      "Requirement already satisfied: six in c:\\users\\91709\\anaconda3\\lib\\site-packages (from packaging>=20.0->matplotlib->filterpy) (1.14.0)\n",
      "Requirement already satisfied: setuptools in c:\\users\\91709\\anaconda3\\lib\\site-packages (from kiwisolver>=1.0.1->matplotlib->filterpy) (45.2.0.post20200210)\n",
      "Building wheels for collected packages: filterpy\n",
      "  Building wheel for filterpy (setup.py): started\n",
      "  Building wheel for filterpy (setup.py): finished with status 'done'\n",
      "  Created wheel for filterpy: filename=filterpy-1.4.5-py3-none-any.whl size=110454 sha256=cc91d896b4832f3d4148e442568436452afda7fe70a201ca5cbe4de62005b3f6\n",
      "  Stored in directory: c:\\users\\91709\\appdata\\local\\pip\\cache\\wheels\\ce\\e0\\ee\\a2b3c5caab3418c1ccd8c4de573d4cbe13315d7e8b0a55fbc2\n",
      "Successfully built filterpy\n",
      "Installing collected packages: filterpy\n",
      "Successfully installed filterpy-1.4.5\n"
     ]
    }
   ],
   "source": [
    "!pip install filterpy"
   ]
  },
  {
   "cell_type": "code",
   "execution_count": 221,
   "metadata": {},
   "outputs": [],
   "source": [
    "from filterpy.kalman import predict,update,KalmanFilter\n",
    "from filterpy.common import Q_discrete_white_noise"
   ]
  },
  {
   "cell_type": "code",
   "execution_count": 18,
   "metadata": {},
   "outputs": [],
   "source": [
    "def gaussian(mu,var,data):\n",
    "    norm_const = 1/np.sqrt(2*np.pi*var)\n",
    "    exponential = np.exp(-0.5*((data-mu)**2/var))\n",
    "    return (norm_const)*(exponential)"
   ]
  },
  {
   "cell_type": "code",
   "execution_count": 4,
   "metadata": {},
   "outputs": [],
   "source": [
    "def predict(mu1,var1,mu2,var2):\n",
    "    new_mu = mu1+mu2\n",
    "    new_var = var1+var2\n",
    "    return [new_mu,new_var]"
   ]
  },
  {
   "cell_type": "code",
   "execution_count": 11,
   "metadata": {},
   "outputs": [],
   "source": [
    "def update(mu1,var1,mu2,var2):\n",
    "    new_mu = ((var2*mu1)+(var1*mu2))/(var1+var2)\n",
    "    new_var = 1/((1/var1)+(1/var2))\n",
    "    return [new_mu,new_var]"
   ]
  },
  {
   "cell_type": "code",
   "execution_count": 46,
   "metadata": {},
   "outputs": [
    {
     "name": "stdout",
     "output_type": "stream",
     "text": [
      "Updated mean and Variance: 4.99850044986504 , 2.9991002699190243\n",
      "Predicted mean and Variance: 5.99850044986504 , 4.499100269919024\n",
      "Updated mean and Variance: 5.999400107980564 , 1.7998560259153353\n",
      "Predicted mean and Variance: 6.999400107980564 , 3.2998560259153353\n",
      "Updated mean and Variance: 6.999714330605191 , 1.5713959234977362\n",
      "Predicted mean and Variance: 8.99971433060519 , 3.071395923497736\n",
      "Updated mean and Variance: 8.999858844951765 , 1.5176390877149233\n",
      "Predicted mean and Variance: 10.999858844951765 , 3.0176390877149233\n",
      "Updated mean and Variance: 10.99992962935488 , 1.5043968458704013\n",
      "Predicted mean and Variance: 12.99992962935488 , 3.004396845870401\n",
      "Updated mean and Variance: 12.999964840442631 , 1.5010984065468855\n",
      "Predicted mean and Variance: 14.999964840442631 , 3.0010984065468858\n",
      "Updated mean and Variance: 14.999982423439018 , 1.5002745513752167\n",
      "Predicted mean and Variance: 17.999982423439018 , 3.0002745513752167\n",
      "Updated mean and Variance: 17.99999121212163 , 1.5000686347031789\n",
      "Predicted mean and Variance: 20.99999121212163 , 3.0000686347031786\n",
      "Updated mean and Variance: 20.999995606111074 , 1.500017158479517\n",
      "Predicted mean and Variance: 23.999995606111074 , 3.000017158479517\n",
      "Updated mean and Variance: 23.99999780306182 , 1.5000042896076122\n",
      "Predicted mean and Variance: 26.99999780306182 , 3.0000042896076122\n",
      "Updated mean and Variance: 26.999998901531693 , 1.5000010724011366\n",
      "Predicted mean and Variance: 29.999998901531693 , 3.000001072401137\n",
      "\n",
      "\n",
      "Final Estimated Mean and Variance from Kalman Filter: 29.999998901531693 , 3.000001072401137\n"
     ]
    }
   ],
   "source": [
    "measurements = [5., 6., 7., 9., 11.,13.,15.,18.,21.,24.,27.]\n",
    "motions = [1., 1., 2., 2., 2.,2.,3.,3.,3.,3.,3.]\n",
    "\n",
    "measurement_var = 3\n",
    "motion_var = 1.5\n",
    "mean = 0\n",
    "var = 10000\n",
    "\n",
    "for i in range(len(measurements)):\n",
    "    obs,motion = measurements[i],motions[i]\n",
    "    mean,var = update(mean,var,obs,measurement_var)\n",
    "    print(\"Updated mean and Variance: {} , {}\".format(mean,var))\n",
    "    mean,var = predict(mean,var,motion,motion_var)\n",
    "    print(\"Predicted mean and Variance: {} , {}\".format(mean,var))\n",
    "print(\"\\n\")\n",
    "print(\"Final Estimated Mean and Variance from Kalman Filter: {} , {}\".format(mean,var))"
   ]
  },
  {
   "cell_type": "code",
   "execution_count": 51,
   "metadata": {},
   "outputs": [
    {
     "data": {
      "text/plain": [
       "[<matplotlib.lines.Line2D at 0x193d1808288>]"
      ]
     },
     "execution_count": 51,
     "metadata": {},
     "output_type": "execute_result"
    },
    {
     "data": {
      "image/png": "[encoded data removed]",
      "text/plain": [
       "<Figure size 432x288 with 1 Axes>"
      ]
     },
     "metadata": {
      "needs_background": "light"
     },
     "output_type": "display_data"
    }
   ],
   "source": [
    "## Print out and display the final, resulting Gaussian \n",
    "# set the parameters equal to the output of the Kalman filter result\n",
    "mu = mean\n",
    "sigma2 = var\n",
    "\n",
    "# define a range of x values\n",
    "x_axis = np.arange(0, 40, 0.1)\n",
    "\n",
    "# create a corresponding list of gaussian values\n",
    "g = []\n",
    "for x in x_axis:\n",
    "    g.append(gaussian(mu, sigma2, x))\n",
    "\n",
    "# plot the result \n",
    "plt.plot(x_axis, g)"
   ]
  },
  {
   "cell_type": "code",
   "execution_count": 52,
   "metadata": {},
   "outputs": [
    {
     "data": {
      "text/plain": [
       "[<matplotlib.lines.Line2D at 0x193d1875248>]"
      ]
     },
     "execution_count": 52,
     "metadata": {},
     "output_type": "execute_result"
    },
    {
     "data": {
      "image/png": "[encoded data removed]",
      "text/plain": [
       "<Figure size 432x288 with 1 Axes>"
      ]
     },
     "metadata": {
      "needs_background": "light"
     },
     "output_type": "display_data"
    }
   ],
   "source": [
    "mu = 0\n",
    "sigma2 = 10000\n",
    "\n",
    "# define a range of x values\n",
    "x_axis = np.arange(-20, 20, 0.1)\n",
    "\n",
    "# create a corresponding list of gaussian values\n",
    "g = []\n",
    "for x in x_axis:\n",
    "    g.append(gaussian(mu, sigma2, x))\n",
    "\n",
    "# plot the result \n",
    "plt.plot(x_axis, g)"
   ]
  },
  {
   "cell_type": "code",
   "execution_count": 68,
   "metadata": {},
   "outputs": [],
   "source": [
    "def multivariate_gaussian(data,mean,covar):\n",
    "    data = np.array(data,copy=False,ndmin=1).flatten()\n",
    "    mean = np.array(data,copy=False,ndmin=1).flatten()\n",
    "    mean_vec_length = len(mean)\n",
    "    covar = check_covariance(covar,mean_vec_length)\n",
    "    \n",
    "    norm_coeff = mean_vec_length*math.log(2*math.pi) + np.linalg.slogdet(covar)[1]\n",
    "    diff =data-mean\n",
    "    \n",
    "    if(sc.sparse.issparse(covar)):\n",
    "        numerator = sc.sparse.linalg.spsolve(covar,diff).T.dot(diff)\n",
    "    else:\n",
    "        numerator = np.linalg.solve(covar,diff).T.dot(diff)\n",
    "        \n",
    "    return math.exp(-0.5*(norm_coeff+numerator))"
   ]
  },
  {
   "cell_type": "code",
   "execution_count": 53,
   "metadata": {},
   "outputs": [],
   "source": [
    "def check_covariance(covar,mu_len):\n",
    "    if(np.isscalar(covar)):\n",
    "        if(covar<0):\n",
    "            raise ValueError('Covariance must be greater than 0')\n",
    "        return np.eye(mu_len)*covar\n",
    "    covar = np.atleast_2d(covar)\n",
    "    try:\n",
    "        np.linalg.cholesky(covar)\n",
    "    except:\n",
    "        raise ValueError('Covariance must be positive Definite')\n",
    "    return covar"
   ]
  },
  {
   "cell_type": "code",
   "execution_count": 69,
   "metadata": {},
   "outputs": [
    {
     "data": {
      "text/plain": [
       "0.03248737"
      ]
     },
     "execution_count": 69,
     "metadata": {},
     "output_type": "execute_result"
    }
   ],
   "source": [
    "# x - data, mu - mean vector, P - covariance Matrix. \n",
    "x = [2.5, 7.3]\n",
    "mu = [2.0, 7.0]\n",
    "P = [[8., 0.], \n",
    "     [0., 3.]]\n",
    "%precision 8\n",
    "multivariate_gaussian(x, mu, P)"
   ]
  },
  {
   "cell_type": "code",
   "execution_count": 71,
   "metadata": {},
   "outputs": [
    {
     "data": {
      "text/plain": [
       "array([[  18.5249,  135.701 ],\n",
       "       [ 135.701 , 1092.29  ]])"
      ]
     },
     "execution_count": 71,
     "metadata": {},
     "output_type": "execute_result"
    }
   ],
   "source": [
    "height = [60, 62, 63, 65, 65.1, 68, 69, 70, 72, 74]\n",
    "weight = [95, 120, 127, 119, 151, 143, 173, 171, 180, 210]\n",
    "cov_hw = np.cov(np.vstack((height, weight)), bias=1)\n",
    "cov_hw"
   ]
  },
  {
   "cell_type": "code",
   "execution_count": 72,
   "metadata": {},
   "outputs": [
    {
     "data": {
      "text/plain": [
       "0.9539731096080194"
      ]
     },
     "execution_count": 72,
     "metadata": {},
     "output_type": "execute_result"
    }
   ],
   "source": [
    "from scipy.stats import pearsonr\n",
    "pearsonr(height, weight)[0]"
   ]
  },
  {
   "cell_type": "code",
   "execution_count": 73,
   "metadata": {},
   "outputs": [],
   "source": [
    "def weighted_avg_gaussians(mu1,cov1,mu2,cov2):\n",
    "    mu1,mu2 = np.asarray(mu1),np.asarray(mu2)\n",
    "    cov1,cov2 = np.asarray(cov1),np.asarray(cov2)\n",
    "    cov_inv = np.linalg.inv(cov1+cov2)\n",
    "    \n",
    "    cov_mean = np.dot(cov1,cov_inv).dot(cov2)\n",
    "    mu_mean = (np.dot(cov2,cov_inv).dot(mu1)+np.dot(cov1,cov_inv).dot(mu2))\n",
    "    \n",
    "    return mu_mean,cov_mean"
   ]
  },
  {
   "cell_type": "code",
   "execution_count": 75,
   "metadata": {},
   "outputs": [
    {
     "name": "stdout",
     "output_type": "stream",
     "text": [
      "[[ 1.1139792   2.8386826  10.52299   ]\n",
      " [-1.2388811   4.03048469  8.44023222]\n",
      " [-0.08895158  3.27847063  7.23308878]\n",
      " ...\n",
      " [ 0.78687324  6.01692892  9.80738765]\n",
      " [-0.11249459  5.54952289 12.10925302]\n",
      " [ 1.06580144  6.90293626 19.67265792]]\n"
     ]
    }
   ],
   "source": [
    "mu = [0.3, 5., 10.]\n",
    "C = np.array([[1.0, .03, .2],\n",
    "              [.03,  4.0, .0],\n",
    "              [.2,  .0, 16.1]])\n",
    "\n",
    "sample = np.random.multivariate_normal(mu, C, size=1000)\n",
    "print(sample)"
   ]
  },
  {
   "cell_type": "code",
   "execution_count": 237,
   "metadata": {},
   "outputs": [],
   "source": [
    "def get_data(data_var,process_var,cnt=1,dt=1):\n",
    "    pos,vel = 0,1\n",
    "    data_std = math.sqrt(data_var)\n",
    "    proc_std = math.sqrt(process_var)\n",
    "    xs,zs = [],[]\n",
    "    \n",
    "    for _ in range(count):\n",
    "        vel += (rn.randn()*proc_std)\n",
    "        pos += vel*dt\n",
    "        xs.append(x)\n",
    "        zs.append(x + rn.randn()*data_std)\n",
    "    \n",
    "    return np.array(xs),np.array(zs)"
   ]
  },
  {
   "cell_type": "code",
   "execution_count": 223,
   "metadata": {},
   "outputs": [
    {
     "name": "stdout",
     "output_type": "stream",
     "text": [
      "(2, 4) (4, 1)\n"
     ]
    }
   ],
   "source": [
    "# F - state Transition Matrix, P - state covariance Matrix, mean - state Mean Vector, B - control Input Matrix, Q - Process \n",
    "# Covariance Matrix, K - kalman Gain, y - Residual Gain, z -  Measurement Mean, x- state vector,u- control vector,\n",
    "# R - Noise Covariance Matrix.\n",
    "\n",
    "dt = 0.1\n",
    "mean = np.array([10.0,10.0,4.0,4.0])\n",
    "\n",
    "P = np.diag([500., 500., 49.,49.])\n",
    "\n",
    "F = np.array([[1, 0, dt, 0 ],\n",
    "                [0, 1,  0, dt],\n",
    "                [0, 0,  1, 0 ],\n",
    "                [0, 0,  0, 1 ]])\n",
    "Q = Q_discrete_white_noise(dim=4, dt=1., var=2.35)\n",
    "\n",
    "R = np.array([[100, 0],\n",
    "              [0,  70]])\n",
    "u = 0\n",
    "\n",
    "H = np.array([[1., 0.,0.,0.],\n",
    "              [0., 1.,0.,0.]])\n",
    "print(H.shape,x.reshape(4,1).shape)"
   ]
  },
  {
   "cell_type": "code",
   "execution_count": 224,
   "metadata": {},
   "outputs": [
    {
     "name": "stdout",
     "output_type": "stream",
     "text": [
      "[0.4 0.4 4.  4. ]\n"
     ]
    }
   ],
   "source": [
    "x,P = predict(x=mean,P=P,F=F,Q=Q)\n",
    "print(x)"
   ]
  },
  {
   "cell_type": "code",
   "execution_count": 225,
   "metadata": {},
   "outputs": [
    {
     "name": "stdout",
     "output_type": "stream",
     "text": [
      "i= 0 x = [0.8 0.8 4.  4. ]\n",
      "i= 1 x = [1.2 1.2 4.  4. ]\n",
      "i= 2 x = [1.6 1.6 4.  4. ]\n",
      "i= 3 x = [2. 2. 4. 4.]\n",
      "i= 4 x = [2.4 2.4 4.  4. ]\n",
      "i= 5 x = [2.8 2.8 4.  4. ]\n",
      "i= 6 x = [3.2 3.2 4.  4. ]\n",
      "i= 7 x = [3.6 3.6 4.  4. ]\n",
      "i= 8 x = [4. 4. 4. 4.]\n",
      "i= 9 x = [4.4 4.4 4.  4. ]\n"
     ]
    }
   ],
   "source": [
    "for i in range(10):\n",
    "    x, P = predict(x=x, P=P, F=F, Q=Q)\n",
    "    print('i=',i,'x =', x)"
   ]
  },
  {
   "cell_type": "code",
   "execution_count": 226,
   "metadata": {},
   "outputs": [
    {
     "name": "stdout",
     "output_type": "stream",
     "text": [
      "[[573.36388889  19.81833333  71.13333333  17.23333333]\n",
      " [ 19.81833333 587.725       25.85        79.75      ]\n",
      " [ 71.13333333  25.85        74.85        25.85      ]\n",
      " [ 17.23333333  79.75        25.85        74.85      ]]\n"
     ]
    }
   ],
   "source": [
    "print(P)"
   ]
  },
  {
   "cell_type": "code",
   "execution_count": 291,
   "metadata": {},
   "outputs": [
    {
     "data": {
      "image/png": "[encoded data removed]",
      "text/plain": [
       "<Figure size 432x288 with 1 Axes>"
      ]
     },
     "metadata": {
      "needs_background": "light"
     },
     "output_type": "display_data"
    }
   ],
   "source": [
    "from filterpy.stats import plot_covariance_ellipse\n",
    "\n",
    "dt = 0.3\n",
    "F = np.array([[1,dt], [0,1]])\n",
    "x = np.array([10.0,4.0])\n",
    "P = np.diag([500,49])\n",
    "plot_covariance_ellipse(x, P, edgecolor='r')\n",
    "x, P = predict(x, P, F, Q=0)\n",
    "plot_covariance_ellipse(x, P, edgecolor='k', ls='dashed')"
   ]
  },
  {
   "cell_type": "code",
   "execution_count": 227,
   "metadata": {},
   "outputs": [
    {
     "name": "stdout",
     "output_type": "stream",
     "text": [
      "[4.4 4.4 4.  4. ]\n"
     ]
    }
   ],
   "source": [
    "print(x)"
   ]
  },
  {
   "cell_type": "code",
   "execution_count": 229,
   "metadata": {},
   "outputs": [
    {
     "name": "stdout",
     "output_type": "stream",
     "text": [
      "(2, 1)\n",
      "x = [[1.2637911 ]\n",
      " [0.99645987]\n",
      " [3.47961355]\n",
      " [3.46143216]]\n"
     ]
    }
   ],
   "source": [
    "z = np.array([[1.],\n",
    "              [0.8]])\n",
    "print(z.shape)\n",
    "x, P = update(x.reshape(4,1), P, z, R, H)\n",
    "print('x =', x)"
   ]
  },
  {
   "cell_type": "code",
   "execution_count": 231,
   "metadata": {},
   "outputs": [],
   "source": [
    "pos_tracker = KalmanFilter(dim_x=4, dim_z=2)"
   ]
  },
  {
   "cell_type": "code",
   "execution_count": 232,
   "metadata": {},
   "outputs": [
    {
     "name": "stdout",
     "output_type": "stream",
     "text": [
      "x =  [[0. 0. 0. 0.]]\n",
      "R =  [[1. 0.]\n",
      " [0. 1.]]\n",
      "Q = \n",
      " [[1. 0. 0. 0.]\n",
      " [0. 1. 0. 0.]\n",
      " [0. 0. 1. 0.]\n",
      " [0. 0. 0. 1.]]\n"
     ]
    }
   ],
   "source": [
    "print('x = ', dog_filter.x.T)\n",
    "print('R = ', dog_filter.R)\n",
    "print('Q = \\n', dog_filter.Q)"
   ]
  },
  {
   "cell_type": "code",
   "execution_count": 233,
   "metadata": {},
   "outputs": [],
   "source": [
    "def pos_vel_filter(x=mean,F=F, H=H,P=P, R=R, Q=Q, dt=dt):\n",
    "    kf = KalmanFilter(dim_x=4, dim_z=2)\n",
    "    kf.x = np.array([x[0], x[1]]) # location and velocity\n",
    "    kf.F = F  # state transition matrix\n",
    "    kf.H = H    # Measurement function\n",
    "    kf.R *= R                     # measurement uncertainty\n",
    "    if np.isscalar(P):\n",
    "        kf.P *= P                 # covariance matrix \n",
    "    else:\n",
    "        kf.P[:] = P               # [:] makes deep copy\n",
    "    if np.isscalar(Q):\n",
    "        kf.Q = Q\n",
    "    else:\n",
    "        kf.Q[:] = Q\n",
    "    return kf"
   ]
  },
  {
   "cell_type": "code",
   "execution_count": 234,
   "metadata": {},
   "outputs": [],
   "source": [
    "kf = pos_vel_filter(x=mean,F=F,H=H,P=P, R=R, Q=Q, dt=dt)"
   ]
  },
  {
   "cell_type": "code",
   "execution_count": 235,
   "metadata": {},
   "outputs": [
    {
     "data": {
      "text/plain": [
       "KalmanFilter object\n",
       "dim_x = 4\n",
       "dim_z = 2\n",
       "dim_u = 0\n",
       "x = [0. 0.]\n",
       "P = [[45.98543946  0.08943487  5.64532742  1.17990146]\n",
       "     [ 0.08943487 33.03084714  1.32712403  4.45603023]\n",
       "     [ 5.64532742  1.32712403 65.83840496 20.88029691]\n",
       "     [ 1.17990146  4.45603023 20.88029691 64.28994413]]\n",
       "x_prior = [[0. 0. 0. 0.]].T\n",
       "P_prior = [[1. 0. 0. 0.]\n",
       "           [0. 1. 0. 0.]\n",
       "           [0. 0. 1. 0.]\n",
       "           [0. 0. 0. 1.]]\n",
       "x_post = [[0. 0. 0. 0.]].T\n",
       "P_post = [[1. 0. 0. 0.]\n",
       "          [0. 1. 0. 0.]\n",
       "          [0. 0. 1. 0.]\n",
       "          [0. 0. 0. 1.]]\n",
       "F = [[1.  0.  0.1 0. ]\n",
       "     [0.  1.  0.  0.1]\n",
       "     [0.  0.  1.  0. ]\n",
       "     [0.  0.  0.  1. ]]\n",
       "Q = [[0.06527778 0.19583333 0.39166667 0.39166667]\n",
       "     [0.19583333 0.5875     1.175      1.175     ]\n",
       "     [0.39166667 1.175      2.35       2.35      ]\n",
       "     [0.39166667 1.175      2.35       2.35      ]]\n",
       "R = [[100.   0.]\n",
       "     [  0.  70.]]\n",
       "H = [[1. 0. 0. 0.]\n",
       "     [0. 1. 0. 0.]]\n",
       "K = [[0. 0.]\n",
       "     [0. 0.]\n",
       "     [0. 0.]\n",
       "     [0. 0.]]\n",
       "y = [[0. 0.]].T\n",
       "S = [[0. 0.]\n",
       "     [0. 0.]]\n",
       "SI = [[0. 0.]\n",
       "      [0. 0.]]\n",
       "M = [[0. 0.]\n",
       "     [0. 0.]]\n",
       "B = None\n",
       "z = [[None None]].T\n",
       "log-likelihood = -708.3964185322641\n",
       "likelihood = 2.2250738585072014e-308\n",
       "mahalanobis = 0.0\n",
       "alpha = 1.0\n",
       "inv = <function inv at 0x00000193CECE30D8>"
      ]
     },
     "execution_count": 235,
     "metadata": {},
     "output_type": "execute_result"
    }
   ],
   "source": [
    "kf"
   ]
  },
  {
   "cell_type": "code",
   "execution_count": 283,
   "metadata": {},
   "outputs": [],
   "source": [
    "def plot_track_1(xs, ys=None, dt=None, label='Track', c='k', lw=2, **kwargs):\n",
    "    if ys is None and dt is not None:\n",
    "        ys = xs\n",
    "        xs = np.arange(0, len(ys)*dt, dt)\n",
    "    if ys is not None:\n",
    "        return plt.plot(xs, ys, color=c, lw=lw, ls=':', label=label)\n",
    "    else:\n",
    "        return plt.plot(xs, color=c, lw=lw, ls=':', label=label)"
   ]
  },
  {
   "cell_type": "code",
   "execution_count": 272,
   "metadata": {},
   "outputs": [],
   "source": [
    "def plot_measurements(xs, ys=None, dt=None, color='k', lw=1, label='Measurements',\n",
    "                      lines=False, **kwargs):\n",
    "\n",
    "    if ys is None and dt is not None:\n",
    "        ys = xs\n",
    "        xs = np.arange(0, len(ys)*dt, dt)\n",
    "\n",
    "    plt.autoscale(tight=False)\n",
    "    if lines:\n",
    "        if ys is not None:\n",
    "            return plt.plot(xs, ys, color=color, lw=lw, ls='--', label=label, **kwargs)\n",
    "        else:\n",
    "            return plt.plot(xs, color=color, lw=lw, ls='--', label=label, **kwargs)\n",
    "    else:\n",
    "        if ys is not None:\n",
    "            return plt.scatter(xs, ys, edgecolor=color, facecolor='none',\n",
    "                        lw=2, label=label, **kwargs)\n",
    "        else:\n",
    "            return plt.scatter(range(len(xs)), xs, edgecolor=color, facecolor='none',\n",
    "                        lw=2, label=label, **kwargs)\n",
    "    "
   ]
  },
  {
   "cell_type": "code",
   "execution_count": 273,
   "metadata": {},
   "outputs": [],
   "source": [
    "def plot_filter(xs, ys=None, dt=None, c='C0', label='Filter', var=None, **kwargs):\n",
    "\n",
    "    if ys is None and dt is not None:\n",
    "        ys = xs\n",
    "        xs = np.arange(0, len(ys) * dt, dt)\n",
    "    if ys is None:\n",
    "        ys = xs\n",
    "        xs = range(len(ys))\n",
    "\n",
    "    lines = plt.plot(xs, ys, color=c, label=label, **kwargs)\n",
    "    if var is None:\n",
    "        return lines\n",
    "\n",
    "    var = np.asarray(var)\n",
    "    std = np.sqrt(var)\n",
    "    std_top = ys+std\n",
    "    std_btm = ys-std\n",
    "\n",
    "    plt.plot(xs, ys+std, linestyle=':', color='k', lw=2, **kwargs)\n",
    "    plt.plot(xs, ys-std, linestyle=':', color='k', lw=2, **kwargs)\n",
    "    plt.fill_between(xs, std_btm, std_top,\n",
    "                     facecolor='yellow', alpha=0.2, **kwargs)\n",
    "\n",
    "    return lines\n"
   ]
  },
  {
   "cell_type": "code",
   "execution_count": 274,
   "metadata": {},
   "outputs": [],
   "source": [
    "def plot_covariance(P, index=(0, 0)):\n",
    "    ps = []\n",
    "    for p in P:\n",
    "        ps.append(p[index[0], index[1]])\n",
    "    plt.plot(ps)"
   ]
  },
  {
   "cell_type": "code",
   "execution_count": 281,
   "metadata": {},
   "outputs": [],
   "source": [
    "def plot_track(ps, actual, zs, cov, std_scale=1,\n",
    "               plot_P=True, y_lim=None,\n",
    "               xlabel='time', ylabel='position',\n",
    "               title='Kalman Filter'):\n",
    "\n",
    "    count = len(zs)\n",
    "    zs = np.asarray(zs)\n",
    "\n",
    "    cov = np.asarray(cov)\n",
    "    std = std_scale * np.sqrt(cov[:, 0, 0])\n",
    "    std_top = np.minimum(actual+std, [count + 10])\n",
    "    std_btm = np.maximum(actual-std, [-50])\n",
    "\n",
    "    std_top = actual + std\n",
    "    std_btm = actual - std\n",
    "\n",
    "    plot_track_1(actual, c='k')\n",
    "    plot_measurements(range(1, count + 1), zs)\n",
    "    plot_filter(range(1, count + 1), ps)\n",
    "\n",
    "    plt.plot(std_top, linestyle=':', color='k', lw=1, alpha=0.4)\n",
    "    plt.plot(std_btm, linestyle=':', color='k', lw=1, alpha=0.4)\n",
    "    plt.fill_between(range(len(std_top)), std_top, std_btm,\n",
    "                     facecolor='yellow', alpha=0.2, interpolate=True)\n",
    "    plt.legend(loc=4)\n",
    "    plt.xlabel(xlabel)\n",
    "    plt.ylabel(ylabel)\n",
    "    if y_lim is not None:\n",
    "        plt.ylim(y_lim)\n",
    "    else:\n",
    "        plt.ylim((-50, count + 10))\n",
    "\n",
    "    plt.xlim((0, count))\n",
    "    plt.title(title)\n",
    "    plt.show()\n",
    "\n",
    "    if plot_P:\n",
    "        ax = plt.subplot(121)\n",
    "        ax.set_title(r\"$\\sigma^2_x$ (pos variance)\")\n",
    "        plot_covariance(cov, (0, 0))\n",
    "        ax = plt.subplot(122)\n",
    "        ax.set_title(r\"$\\sigma^2_\\dot{x}$ (vel variance)\")\n",
    "        plot_covariance(cov, (1, 1))\n",
    "        plt.show()"
   ]
  },
  {
   "cell_type": "code",
   "execution_count": 279,
   "metadata": {},
   "outputs": [],
   "source": [
    "def compute_dog_data(z_var, process_var, count=1, dt=1.):\n",
    "    \"returns track, measurements 1D ndarrays\"\n",
    "    x, vel = 0., 1.\n",
    "    z_std = math.sqrt(z_var) \n",
    "    p_std = math.sqrt(process_var)\n",
    "    xs, zs = [], []\n",
    "    for _ in range(count):\n",
    "        v = vel + (rn.randn() * p_std)\n",
    "        x += v*dt        \n",
    "        xs.append(x)\n",
    "        zs.append(x + rn.randn() * z_std)        \n",
    "    return np.array(xs), np.array(zs)"
   ]
  },
  {
   "cell_type": "code",
   "execution_count": 284,
   "metadata": {},
   "outputs": [
    {
     "name": "stdout",
     "output_type": "stream",
     "text": [
      "(50,) (50,)\n"
     ]
    },
    {
     "data": {
      "image/png": "[encoded data removed]",
      "text/plain": [
       "<Figure size 432x288 with 1 Axes>"
      ]
     },
     "metadata": {
      "needs_background": "light"
     },
     "output_type": "display_data"
    }
   ],
   "source": [
    "dt = 1.\n",
    "R_var = 10\n",
    "Q_var = 0.01\n",
    "x = np.array([[10.0, 4.5]]).T\n",
    "P = np.diag([500, 49])\n",
    "F = np.array([[1, dt],\n",
    "              [0,  1]])\n",
    "H = np.array([[1., 0.]])\n",
    "R = np.array([[R_var]])\n",
    "Q = Q_discrete_white_noise(dim=2, dt=dt, var=Q_var)\n",
    "\n",
    "from scipy.linalg import inv\n",
    "\n",
    "count = 50\n",
    "track, zs = compute_dog_data(R_var, Q_var, count)\n",
    "print(track.shape,zs.shape)\n",
    "xs, cov = [], []\n",
    "for z in zs:\n",
    "    # predict\n",
    "    x = F @ x\n",
    "    P = F @ P @ F.T + Q\n",
    "    \n",
    "    # update\n",
    "    S = H @ P @ H.T + R\n",
    "    K = P @ H.T @ inv(S)\n",
    "    y = z - H @ x\n",
    "    x += K @ y\n",
    "    P = P - K @ H @ P\n",
    "    \n",
    "    xs.append(x)\n",
    "    cov.append(P)\n",
    "\n",
    "xs, cov = np.array(xs), np.array(cov)\n",
    "plot_track(xs[:, 0], track, zs, cov, plot_P=False)"
   ]
  },
  {
   "cell_type": "code",
   "execution_count": null,
   "metadata": {},
   "outputs": [],
   "source": []
  },
  {
   "cell_type": "code",
   "execution_count": null,
   "metadata": {},
   "outputs": [],
   "source": []
  },
  {
   "cell_type": "code",
   "execution_count": null,
   "metadata": {},
   "outputs": [],
   "source": []
  }
 ],
 "metadata": {
  "kernelspec": {
   "display_name": "Python 3",
   "language": "python",
   "name": "python3"
  },
  "language_info": {
   "codemirror_mode": {
    "name": "ipython",
    "version": 3
   },
   "file_extension": ".py",
   "mimetype": "text/x-python",
   "name": "python",
   "nbconvert_exporter": "python",
   "pygments_lexer": "ipython3",
   "version": "3.7.6"
  }
 },
 "nbformat": 4,
 "nbformat_minor": 4
}
